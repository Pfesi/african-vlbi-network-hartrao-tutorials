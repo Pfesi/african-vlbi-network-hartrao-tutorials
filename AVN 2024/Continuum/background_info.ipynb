{
 "cells": [
  {
   "cell_type": "markdown",
   "metadata": {},
   "source": [
    "# AGN - A Glimpse into the Extreme Universe\n",
    "Dr Pfesi van Zyl - 11/11/2024"
   ]
  },
  {
   "cell_type": "markdown",
   "metadata": {},
   "source": [
    "## 1. What are AGN ?\n",
    "\n",
    "**Supermassive black holes at the centers of galaxies, accreting matter and releasing enormous amounts of energy.**\n",
    "\n",
    "- **Key Components**:\n",
    "    - Supermassive black hole\n",
    "    - Accretion disk\n",
    "    - Broad-line region (BLR)\n",
    "    - Narrow-line region (NLR)\n",
    "    - Jets \n",
    "\n",
    "Depending on how these objects are oriented in the sky, these objects can be described differently based on their dominant observed properties.\n",
    "\n",
    "The image below shows the current accepted model of these sources"
   ]
  },
  {
   "cell_type": "markdown",
   "metadata": {},
   "source": [
    "![agn-model img](images/agn-model.png)\n",
    "Image credit: https://www.researchgate.net/profile/Richard-Britto/publication/313628117/figure/fig9/AS:670459037224964@1536861299154/The-unified-model-of-Active-Galactic-Nuclei-AGNs-Credit-Beckmann-Shrader-2012.ppm\n",
    "\n",
    "<!--![agn-morphology img](images/morph.gif)\n",
    "Image credit: https://ned.ipac.caltech.edu/level5/Padovani2/Figures/table1.gif-->\n",
    "\n",
    "\n",
    "![agn-morphology img](images/morph2.gif)\n",
    "Image credit: https://ars.els-cdn.com/content/image/1-s2.0-S163107051630024X-gr001.gif"
   ]
  },
  {
   "cell_type": "markdown",
   "metadata": {},
   "source": [
    "## 2. We are interested in Blazars: A Special Class of AGN\n",
    "\n",
    "**Definition**: AGN with relativistic jets pointed directly towards Earth.\n",
    "\n",
    "**Key Characteristics**:\n",
    "\n",
    "    - Rapid variability\n",
    "    - High luminosity\n",
    "    - Non-thermal emission across the entire electromagnetic spectrum from **radio waves** to gamma rays\n",
    "\n",
    "**Types of Blazars**:\n",
    "\n",
    "    - BL Lacertae objects (BL Lacs, little to no emission lines)\n",
    "    - Flat-spectrum radio quasars (FSRQs, higher luminosity, strong emission lines) \n",
    "    \n",
    "**Blazars**:\n",
    "\n",
    "    - SMBH, Jet, accelerated photons\n",
    "    \n",
    "![Blazar_model](images/Blazar_model.jpg)\n",
    "![Blazar](images/blazars.png)"
   ]
  },
  {
   "cell_type": "markdown",
   "metadata": {},
   "source": [
    "## we can learn a lot about an object from studying it at multiple wavelengths ?\n",
    "\n",
    "Astronomers used to think of themselves as - either ‘optical’, ‘radio’, ‘IR’ or ‘X-ray’\n",
    "\n",
    "- But modern astrophysics requires studying an object across the whole EM spectrum\n",
    "\n",
    "- Different physical processes can be studied at different wavelengths\n",
    "\n",
    "- For example X-ray, gamma ray and radio astronomers need to identify their sources with optical counterparts\n",
    "\n",
    "**Question**:\n",
    "\n",
    "Any idea why we need optical counterparts ?\n",
    "\n",
    "![wavelengths img](images/wave.png)"
   ]
  },
  {
   "cell_type": "markdown",
   "metadata": {},
   "source": [
    "## We can see objects on vast scales with Radio astronomy instruments ? - Single-dish\n",
    "With single-dish we can observe the large scale structure of an object"
   ]
  },
  {
   "cell_type": "markdown",
   "metadata": {},
   "source": [
    "![rad img](images/rad.png)\n",
    "\n",
    "Superimposed radio waves from the Milky Way: as seen by Radio Telescopes in SA and Germany"
   ]
  },
  {
   "cell_type": "markdown",
   "metadata": {},
   "source": [
    "### EHT blackhole imaging project - VLBI\n",
    "With VLBI we can get to regions around the blackhole on arcsecond/millie-asrcsecond scales\n",
    "\n",
    "\n",
    "![eht-vlbi img](images/eht_vlbi.jpg)\n",
    "\n",
    "Video Link: https://player.vimeo.com/video/537735513?dnt=1&app_id=122963\n",
    "\n",
    "Image credit: https://www.almaobservatory.org/wp-content/uploads/2021/04/image1_Credit_EN-3991x3000.jpg"
   ]
  },
  {
   "cell_type": "markdown",
   "metadata": {},
   "source": [
    "## 3. Why Study Blazars?\n",
    "\n",
    "**Probing Extreme Physics**:\n",
    "\n",
    "- Relativistic jets: Particle acceleration to near-light speeds\n",
    "- Strong gravitational fields: Testing general relativity\n",
    "- High-energy processes: Gamma-ray emission, cosmic rays\n",
    "\n",
    "**Cosmology and Galaxy Evolution**:\n",
    "\n",
    "- Tracing the evolution of supermassive black holes\n",
    "- Understanding the role of AGN in galaxy formation and growth [Image: "
   ]
  },
  {
   "cell_type": "markdown",
   "metadata": {},
   "source": [
    "### We are interested in\n",
    "\n",
    "- Understanding the underlying physics that cause these objects to behave the way they do\n",
    "\n",
    "\n",
    "### What do we know so far ?\n"
   ]
  },
  {
   "cell_type": "markdown",
   "metadata": {},
   "source": [
    "\n",
    "#### Blazar emission\n",
    "\n",
    "- Emitted accross the entire electromangetic spectrum\n",
    "\n",
    "- Mainly due to electromagnetic radiation emitted by charged particles moving at relativistic speeds in a magnetic field.\n",
    "\n",
    "- The particles, often electrons, are accelerated by the magnetic field, causing them to spiral and emit **non-thermal** radiation.\n",
    "\n",
    "- The emitted radiation is beamed in a narrow cone along the direction of motion.\n",
    "\n",
    "- Due to the high speed of the electrons, the radiation is Doppler-boosted, resulting in a significant increase in observed frequency.\n",
    "\n",
    "\n",
    "- Accelerated photons produce > synchrotron radiation => **radio emission**\n"
   ]
  },
  {
   "cell_type": "markdown",
   "metadata": {},
   "source": [
    "\n",
    "![synchrotron](images/synch.png)\n",
    "\n"
   ]
  },
  {
   "cell_type": "markdown",
   "metadata": {},
   "source": [
    "### Blazar emission characterization\n",
    "\n",
    "- usually characterized by two broad humps in a ν−νfν or spectral energy representation of the variable source\n",
    "\n",
    "- The low-energy hump is attributed to synchrotron radiation, while the high-energy hump is usually attributed to inverse-Compton radiation. \n",
    "\n",
    "\n",
    "SED from jet model, showing synchrotron and inverse-Compton emission from a the flare and steady-state regions, and the synchrotron emission from the rest of the jet. Data: Black points show data taken during a flare, and gray points show steady-state emission.\n",
    "\n",
    "### studying the energy variances between steady and flaring states\n",
    "\n",
    "- helps us to characterize the particle content responsible for the emission\n",
    "\n",
    "- the different energy states occuring within the source\n",
    "\n",
    "- which in turn helps us better understand these objects\n",
    "\n",
    "\n",
    "![sed](images/SED-from-our-jet-model-showing-synchrotron-and-inverse-Compton-emission-from-the-flare.png)\n",
    "Image credit: https://www.researchgate.net/publication/357923232/figure/fig2/AS:1113768092278795@1642554414785/SED-from-our-jet-model-showing-synchrotron-and-inverse-Compton-emission-from-the-flare.ppm"
   ]
  },
  {
   "cell_type": "markdown",
   "metadata": {},
   "source": [
    "## 4. Case study of PKS 1424-418 - My MSc work."
   ]
  },
  {
   "cell_type": "markdown",
   "metadata": {},
   "source": [
    "#### Performed basic observations 2012-2013"
   ]
  },
  {
   "cell_type": "markdown",
   "metadata": {},
   "source": [
    "![overview img](images/overview.png)"
   ]
  },
  {
   "cell_type": "markdown",
   "metadata": {},
   "source": [
    "#### Obtained flux densities from drift scans\n",
    "![drift img](images/drift.png)"
   ]
  },
  {
   "cell_type": "markdown",
   "metadata": {},
   "source": [
    "Drift scans can look ver different, depending on observing frequency.\n",
    "\n",
    "![drift img](images/drift3.png)"
   ]
  },
  {
   "cell_type": "markdown",
   "metadata": {},
   "source": [
    "#### Generated a long term light-curve of the source activity "
   ]
  },
  {
   "cell_type": "markdown",
   "metadata": {},
   "source": [
    "<!--![variability img](images/img1.png)-->"
   ]
  },
  {
   "cell_type": "markdown",
   "metadata": {},
   "source": [
    "\n",
    "\n",
    "##### Radio observations\n",
    "\n",
    "![Radio obs](images/img4.png)\n",
    "\n",
    "##### We were able to run comparisons with Gamma-ray observations from the Fermi-LAT telescope\n",
    "\n",
    "\n",
    "\n",
    "![Atels](images/img6.png)\n",
    "![Radio](images/img8.png)\n",
    "![Gamma obs](images/img3.png)\n",
    "\n",
    "![Fermi-LAT](images/img7.png)\n",
    "\n",
    "![fermi coincidence](images/fermi.png)\n",
    "Image credit: https://3c1703fe8d.site.internapcdn.net/newman/gfx/news/hires/2016/possibleextr.jpg\n",
    "\n",
    "\n",
    "\n",
    "### Other peoples work\n",
    "\n",
    "##### Ice cube  - Dedected a neutrino around the same time as when we saw a relatively high increase in the source\n",
    "\n",
    "##### This detection was big news at that time and made it into a Nature paper\n",
    "\n",
    "![1](images/img10.png)\n",
    "![1](images/img11.png)\n",
    "\n",
    "### To read about this\n",
    "[Kadler et. al 2012 Paper](https://arxiv.org/abs/1602.02012)\n",
    "\n",
    "\n",
    "#### We also wrote about our contribution to that paper in an online government article\n"
   ]
  },
  {
   "cell_type": "code",
   "execution_count": 1,
   "metadata": {},
   "outputs": [
    {
     "name": "stderr",
     "output_type": "stream",
     "text": [
      "/Users/pfesesanivanzyl/anaconda3/envs/dran/lib/python3.11/site-packages/IPython/core/display.py:431: UserWarning: Consider using IPython.display.IFrame instead\n",
      "  warnings.warn(\"Consider using IPython.display.IFrame instead\")\n"
     ]
    },
    {
     "data": {
      "text/html": [
       "<iframe src='https://www.dst.gov.za/index.php/media-room/latest-news/1762-hartrao-helps-to-find-big-birds-nest' width='1000' height='500'></iframe>"
      ],
      "text/plain": [
       "<IPython.core.display.HTML object>"
      ]
     },
     "execution_count": 1,
     "metadata": {},
     "output_type": "execute_result"
    }
   ],
   "source": [
    "from IPython.display import Image,HTML\n",
    "# View source \n",
    "HTML(\"<iframe src='https://www.dst.gov.za/index.php/media-room/latest-news/1762-hartrao-helps-to-find-big-birds-nest' width='1000' height='500'></iframe>\")"
   ]
  },
  {
   "cell_type": "markdown",
   "metadata": {},
   "source": [
    "### To see what our source looks like today\n",
    "\n",
    "\n",
    "[latest pks1424-418](https://fermi.gsfc.nasa.gov/ssc/data/access/lat/msl_lc/source/PKS_1424-41)\n",
    "\n"
   ]
  },
  {
   "cell_type": "markdown",
   "metadata": {},
   "source": [
    "## 5. Today you are going to be radio scientists and replicate this  work?\n",
    "\n",
    "** Aim **\n",
    "- Our science goal is to monitor the flux density variations of radio sources. \n"
   ]
  },
  {
   "cell_type": "markdown",
   "metadata": {},
   "source": [
    "# How are we going to achieve this ? \n",
    "\n",
    "### Using the formulas you learned about this past week.\n",
    "\n",
    "### Instead of working with the temperature brightness of the Sun, you will get hands on experience on how we detect radio emission from an AGN source.\n",
    "\n",
    "When you observe a radio emitting source, what you actually measure is the signal strength over a defined band through a radiometer. This signal output \n",
    "from the radiometer is equivalent to the sum of the radio emission received from all externally contributing sources referred to as the system temperature ($T_{sys}$) in Kelvins given by\n",
    "\n",
    "$$T_{sys} = T_{Bcmb} + T_{A} + T_{at} + T_{wv} + T_{g} + T_{R} [K]$$\n",
    "\n",
    "where $T_{sys}$ is a combination of contributions from the:\n",
    "\n",
    "   * $T_{Bcmb}$ - cosmic microwave background\n",
    "   * $T_{A}$ - antenna temperature\n",
    "   * $T_{at}$ - dry atmosphere\n",
    "   * $T_{wv}$ - water vapour\n",
    "   * $T_{g}$ - ground, and \n",
    "   * $T_{R}$ - receiver noise.\n",
    "  \n",
    "The contribution from $T_A$ is not an actual representation of the physical temperature of the antenna. Instead it represents an increase in temperature (receiver output) measured when the antenna is pointed at a radio-emitting source.\n",
    "\n",
    "** What we want is flux density ($S$) in Jy. **\n",
    "\n",
    "The relation between the flux density $S$ of an unresolved source and the antenna temperature $T_A$ due to that source is given by \n",
    "\n",
    "$$ S = \\frac{2 k_{B}T_{A}}{A_{e}}$$\n",
    "\n",
    "where :\n",
    "\n",
    "   * $k_{B}$ is the Boltzmanns constant\n",
    "   * $A_{e}$ - telescope effective area\n",
    "   \n",
    "It is important to note that the flux density of a radio source is intrinsic to it, and the same flux density should \n",
    "be measured by any properly calibrated telescope. So rather than using units of effecive area we use a measure \n",
    "of the sensitivity of the telescope known as the Point Source Sensitivity ($PSS$) as a conversion factor. The PSS\n",
    "is the number of Kelvins of antenna temperature per polarisation, obtained per \n",
    "Jansky of source flux density\n",
    "\n",
    "$$ PSS = \\frac{S_{o}/2}{T_{A}} [Jy K^{-1} polarization^{-1}]$$\n",
    "\n",
    "We get the PSS from observations of a source with a well known flux density called a flux calibrator \n",
    "(i.e. a continuum point source characterised by having a non-variable flux density over long time-scales). \n",
    "\n",
    "\n"
   ]
  },
  {
   "cell_type": "markdown",
   "metadata": {},
   "source": [
    "### Tutorial:\n",
    "To start the tutorial click on the 12Ghz Hydra A link. \n",
    "\n",
    "* [Calibrator - 12Ghz Hydra A ](12GHz_HydraA_tutorial.ipynb)\n",
    "* [Target - 12Ghz J1427-4206 ](12GHz_j1427-4206_tutorial.ipynb)\n",
    "\n",
    "\n",
    "### Extra-work tutorials:\n",
    "* [Calibrator - 5Ghz Hydra A ](5GHz_HydraA_tutorial.ipynb)\n",
    "* [Target - 5Ghz J1427-4206 ](5GHz_j1427-4206_tutorial.ipynb)\n",
    "* [8.3Ghz Hydra A calibration](8GHz_HydraA_tutorial.ipynb)\n",
    "* [8.3Ghz J1427-4206 flux density estimation](8GHz_j1427-4206_tutorial.ipynb)\n",
    "* [2Ghz Hydra A calibration](2GHz_HydraA_tutorial.ipynb)\n",
    "* [2Ghz J1427-4206 flux density estimation](2GHz_J1427-4206_tutorial.ipynb)"
   ]
  }
 ],
 "metadata": {
  "kernelspec": {
   "display_name": "Python 3 (ipykernel)",
   "language": "python",
   "name": "python3"
  },
  "language_info": {
   "codemirror_mode": {
    "name": "ipython",
    "version": 3
   },
   "file_extension": ".py",
   "mimetype": "text/x-python",
   "name": "python",
   "nbconvert_exporter": "python",
   "pygments_lexer": "ipython3",
   "version": "3.11.5"
  }
 },
 "nbformat": 4,
 "nbformat_minor": 2
}
