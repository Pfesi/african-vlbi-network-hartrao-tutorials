{
 "cells": [
  {
   "cell_type": "markdown",
   "metadata": {},
   "source": [
    "# Radio flux density calibration of Hydra A @ 2 GHz\n"
   ]
  },
  {
   "cell_type": "markdown",
   "metadata": {
    "slideshow": {
     "slide_type": "slide"
    }
   },
   "source": [
    "### Please note:\n",
    "\n",
    "The data you will be processing in this and other tutorials is located in the \"data\" folder. In there you will\n",
    "find fits files for your calibrator [Hydra A](http://simbad.u-strasbg.fr/simbad/sim-id?Ident=NAME%20HYDRA%20A)\n",
    "and your target source [J1427-4206](http://simbad.u-strasbg.fr/simbad/sim-basic?Ident=PKS+1424-418&submit=SIMBAD+search) at 2 GHz, 5 GHz, 8 GHz and 12 GHz frequencies. **For this exercize we will be working on\n",
    "2GHz data for our calibration source**.\n",
    "\n",
    "All the files you will need for the tutorial can be found at this [Github repository](https://github.com/Pfesi/AVN2019). **You need to download the file and work from that directory**. i.e. \"cd into that directory\""
   ]
  },
  {
   "cell_type": "markdown",
   "metadata": {},
   "source": [
    "Listed below are the steps we are going to follow to calibrate our source and estimate the flux density\n",
    "\n",
    "# <a name=\"top\"></a>Task list:\n",
    "\n",
    "1. [Locate and open the observation file](#section1)\n",
    "2. [Examine the fits file](#section2)\n",
    "3. [Extract the drift scan data](#section3)\n",
    "4. [Measure the antenna temperature](#section4)\n",
    " * 4.1 [Convert counts to units of Kelvin](#section4.1)\n",
    " * 4.2 [Fit a baseline to remove systemic contributions](#section4.2)\n",
    " * 4.3 [Fit beam to get antenna temperature](#section4.3)\n",
    "5. [Calculate the Point source sensitivity](#section5)\n",
    "6. [Got to home page](AVN_2018_Drift_scan_continuum_tutorial.ipynb)"
   ]
  },
  {
   "cell_type": "markdown",
   "metadata": {},
   "source": [
    "# 1. <a name=\"section1\">Locate and open the observation file</a> \n",
    "[back to top](#top)\n",
    "\n",
    "Select an observation to work on and open the fits file\n",
    "\n",
    "* The Python standard library has a [pyfits package](http://docs.astropy.org/en/stable/io/fits/index.html) we use for reading and writing FITS files and manipulating their contents. Fits files store information about a source observation in what it calls header data units (HDUs). We are going to load the package in order to begin processing our preferred file. You can read up on all the other interesting file manipulation methods by clicking on the link above.\n",
    "\n"
   ]
  },
  {
   "cell_type": "code",
   "execution_count": null,
   "metadata": {},
   "outputs": [],
   "source": [
    "import astropy.io.fits as pyfits\n",
    "\n",
    "# Get the path name of the file you want to process\n",
    "fitsfile = 'data/HydraA/2GHz/2013d125_15h23m40s_Cont_mike_HYDRA_A.fits'\n",
    "hdulist  = pyfits.open(fitsfile) "
   ]
  },
  {
   "cell_type": "markdown",
   "metadata": {},
   "source": [
    "# 2. <a name=\"section2\">Examine the fits file</a>\n",
    "[back to top](#top)\n",
    "\n",
    "It is always a good idea to familiarize yourself with the file contents by viewing the different types of information inside your file. To get an overview of the contents we use the info() method\n"
   ]
  },
  {
   "cell_type": "code",
   "execution_count": null,
   "metadata": {},
   "outputs": [],
   "source": [
    "hdulist.info()"
   ]
  },
  {
   "cell_type": "markdown",
   "metadata": {},
   "source": [
    "The info() method gives us a list of all the HDUs in this file. \n",
    "\n",
    "* The first header data unit (HDU) contains information on the  observation.  \n",
    "* The second one has information on the 2.5 cm (i.e. 12 GHz) feed system. This data is not necessarily up to date, so we generally disregard it. \n",
    "* The third unit has the noise diode firing, used to convert from raw counts to Kelvins. \n",
    "* The next three binary tables are the drift scans themselves, starting at the north offset position.\n",
    "* The last HDU contains more information about the observation.\n",
    "\n",
    "To view the content inside an HDU we use indexes. For example, to view the PRIMARY HDU, we use index 0.\n"
   ]
  },
  {
   "cell_type": "code",
   "execution_count": null,
   "metadata": {},
   "outputs": [],
   "source": [
    "hdulist[0].header\n",
    "\n",
    "# You can play around with changing the indeces to see what \n",
    "# other information is stored in the other HDUs"
   ]
  },
  {
   "cell_type": "markdown",
   "metadata": {},
   "source": [
    "# 3. <a name=\"section3\">Extract the drift scan data</a>\n",
    "\n",
    "[back to top](#top)"
   ]
  },
  {
   "cell_type": "code",
   "execution_count": null,
   "metadata": {},
   "outputs": [],
   "source": [
    "drift = hdulist[3] #ON"
   ]
  },
  {
   "cell_type": "markdown",
   "metadata": {},
   "source": [
    "Lets view the drift1 HDU to see the file contents"
   ]
  },
  {
   "cell_type": "code",
   "execution_count": null,
   "metadata": {},
   "outputs": [],
   "source": [
    "drift.header"
   ]
  },
  {
   "cell_type": "markdown",
   "metadata": {},
   "source": [
    "Most of the fields are actually just the position in different formats. We are interested in the output signal '**Count1**' and '**Count2**'.  "
   ]
  },
  {
   "cell_type": "markdown",
   "metadata": {},
   "source": [
    "# 4. <a name=\"section4\">Measure the antenna temperature</a>\n",
    "[back to top](#top)"
   ]
  },
  {
   "cell_type": "markdown",
   "metadata": {},
   "source": [
    "## 4.1 <a name=\"section4.1\">Convert counts to units of Kelvin </a>\n",
    "[back to top](#top)"
   ]
  },
  {
   "cell_type": "code",
   "execution_count": null,
   "metadata": {},
   "outputs": [],
   "source": [
    "#Import plotting libraries\n",
    "import matplotlib.pyplot as plt\n",
    "\n",
    "#display figures inline \n",
    "%matplotlib inline  \n",
    "\n",
    "# Get the noise diode calibration HDU\n",
    "noise_cal = hdulist[2]\n",
    "\n",
    "# Construct an array for the x-axis in terms of right ascension\n",
    "ra = drift.data['RA_J2000']\n",
    "count_K1 = noise_cal.header['HZPERK1']\n",
    "count_K2 = noise_cal.header['HZPERK2']\n",
    "\n",
    "# Get source counts \n",
    "on_scan_LCP_counts    = drift.data['Count1']\n",
    "on_scan_RCP_counts    = drift.data['Count2']\n",
    "\n",
    "\n",
    "# Convert counts to antenna temperature\n",
    "on_scan_LCP    = (drift.data['Count1']/count_K1) - ((drift.data['Count1'])[0]/count_K1)\n",
    "on_scan_RCP    = (drift.data['Count2']/count_K2) - ((drift.data['Count2'])[0]/count_K2)\n",
    "            \n",
    "# Plot the data\n",
    "\n",
    "# ON\n",
    "plt.figure(figsize=[15,5])\n",
    "plt.suptitle('Central (on-source) scan')\n",
    "\n",
    "ax = plt.subplot(121)\n",
    "plt.grid()\n",
    "plt.plot(ra, on_scan_LCP, label = 'LCP')\n",
    "plt.xlabel('RA (deg)')\n",
    "plt.ylabel('Ta (K)')\n",
    "plt.legend()\n",
    "lim = plt.axis('tight')\n",
    "\n",
    "ax = plt.subplot(122)\n",
    "plt.grid()\n",
    "plt.plot(ra, on_scan_RCP, label = 'RCP')\n",
    "plt.xlabel('RA (deg)')\n",
    "plt.ylabel('Ta (K)')\n",
    "plt.legend()\n",
    "lim = plt.axis('tight')\n",
    "\n"
   ]
  },
  {
   "cell_type": "markdown",
   "metadata": {},
   "source": [
    "## 4.2 <a name=\"section4.2\">Fit a baseline to remove systemic contributions</a>\n",
    "[back to top](#top)\n",
    "\n",
    "We are only interested in the temperature contributed by the source, so we want to subract off the system temperature contribution.  We see that the baseline level changes through during the scan.\n",
    "\n",
    "What do we fit then?  This is a fairly strong source, we can clealy see the antenna beam pattern.  Looking carefully we can see a deflection point at the base of the beam.  This is the first null of the beam. At these points we will not be receiving any power from the source.\n"
   ]
  },
  {
   "cell_type": "markdown",
   "metadata": {},
   "source": [
    "Locate the section you want to use for your fit. We are going to write a few methods to help us process the location selection for our fit"
   ]
  },
  {
   "cell_type": "code",
   "execution_count": null,
   "metadata": {},
   "outputs": [],
   "source": [
    "def getBasePts(x, y,len_scan,x1,x2,x3,x4): \n",
    "    '''\n",
    "        Get baseline points. Select points along the driftscan where you will fit\n",
    "        your baseline.\n",
    "    '''\n",
    "\n",
    "    xbleft = x[x1:x2]\n",
    "    ybleft = y[x1:x2]\n",
    "    xbright= x[len_scan-x3:len_scan-x4]\n",
    "    ybright= y[len_scan-x3:len_scan-x4]\n",
    "\n",
    "    left_base_pts = list(xbleft) + list(xbright)\n",
    "    right_base_pts = list(ybleft) + list(ybright)\n",
    "\n",
    "    return left_base_pts, right_base_pts \n"
   ]
  },
  {
   "cell_type": "markdown",
   "metadata": {},
   "source": [
    "Fit the baseline and plot your data"
   ]
  },
  {
   "cell_type": "code",
   "execution_count": null,
   "metadata": {},
   "outputs": [],
   "source": [
    "import numpy as np\n",
    "\n",
    "def fitBasePts(x_base_pts,y_base_pts, x, y):\n",
    "    \"\"\"Fit the data to remove systematic contributions.\n",
    "    \"\"\"\n",
    "        \n",
    "    base_fit_coeffs = np.polyfit(x_base_pts, y_base_pts, 1)\n",
    "    base_fit_line = np.polyval(base_fit_coeffs,x_base_pts)   \n",
    "    data_fit = np.polyval(base_fit_coeffs, x)\n",
    "    data_fit = y - data_fit\n",
    "    \n",
    "    res,rms = residual(y_base_pts,base_fit_line)\n",
    "   \n",
    "    print (\"Fit = %.2fx + %d, rms error = %.3f\" %(base_fit_coeffs[0], base_fit_coeffs[1],rms))\n",
    "    \n",
    "    return data_fit, base_fit_line\n",
    "    \n",
    "# Get the residual and rms to estimate the errors in the fit\n",
    "def residual(model, data): \n",
    "    \n",
    "    from sklearn.metrics import mean_squared_error\n",
    "    \"\"\"\n",
    "        Calculate the residual between the model and the data.\n",
    "    \"\"\"\n",
    "\n",
    "    res = np.array(model - data)\n",
    "    rms = np.sqrt(mean_squared_error(data,model))\n",
    "\n",
    "    return res, rms\n",
    "\n",
    "def fitBaselineAndPlot(x,y,title,x1,x2,x3,x4,len_scan):\n",
    "    \"\"\"\n",
    "        Fit the baseline and plot your data\n",
    "    \"\"\"\n",
    "\n",
    "\n",
    "    xb,yb = getBasePts(x,y,len_scan,x1,x2,x3,x4)\n",
    "    \n",
    "    # Fit the baseline points\n",
    "    fit, base_fit_line = fitBasePts(xb,yb, x, y)\n",
    "\n",
    "    # plot the data\n",
    "    plt.figure(figsize=[15,5])\n",
    "    plt.suptitle(title)\n",
    "\n",
    "    ax = plt.subplot(121)\n",
    "    plt.axhline(y=0, color='k', alpha= 0.5)\n",
    "    l1,= plt.plot(x,y, label = 'original data')\n",
    "    l2,= plt.plot(xb,yb,'r.', label = 'noise')\n",
    "    plt.plot(xb,base_fit_line, 'g', label = \"baseline fit\")\n",
    "    plt.xlabel('RA (deg)')\n",
    "    plt.ylabel('Ta (K)')\n",
    "    plt.legend()\n",
    "    plt.grid()\n",
    "    lim = plt.axis('tight')\n",
    "\n",
    "    ax = plt.subplot(122)\n",
    "    l1,= plt.plot(x,fit, label = 'final data')\n",
    "    plt.xlabel('RA (deg)')\n",
    "    plt.ylabel('Ta (K)')\n",
    "    plt.axhline(y=0, color='k', alpha= 0.5)\n",
    "    plt.legend()\n",
    "    plt.grid()\n",
    "    lim = plt.axis('tight')\n",
    "    \n",
    "    return fit\n",
    "\n",
    "# Get the length of the scans\n",
    "len_scan = len(ra)\n",
    "\n",
    "# Set the baseline points, default is 100 points on each side\n",
    "# You can change the x1-x4 values to adjust the location of\n",
    "# your baseline fit.\n",
    "\n",
    "# Set your baseline fit data points. YOU CAN MODIFY THESE VALUES\n",
    "x1 = \n",
    "x2 = \n",
    "x3 = \n",
    "x4 = \n",
    "    \n",
    "print (\"Y = mx + c\")\n",
    "# Fit and plot \n",
    "\n",
    "onlcp = fitBaselineAndPlot(ra, on_scan_LCP, 'On scan [LCP]',x1,x2,x3,x4,len_scan)\n",
    "onrcp = fitBaselineAndPlot(ra, on_scan_RCP, 'On scan [RCP]',x1,x2,x3,x4,len_scan)"
   ]
  },
  {
   "cell_type": "markdown",
   "metadata": {},
   "source": [
    "## 4.3 <a name=\"section4.3\">Fit beam to get antenna temperature</a>\n",
    "[back to top](#top)"
   ]
  },
  {
   "cell_type": "markdown",
   "metadata": {},
   "source": [
    "We are now going to fit the top of the beam to fit the \n",
    "antenna temperature. We will use a 2nd order polynomial fit\n",
    "at the top of the peak. "
   ]
  },
  {
   "cell_type": "code",
   "execution_count": null,
   "metadata": {},
   "outputs": [],
   "source": [
    "# Get location of peak\n",
    "def getPeakPts(drift, percentage):\n",
    "    \"\"\"Get locations of scan peak where we are going to fit \n",
    "       We will be fitting the top 40% of our scan.\n",
    "    \"\"\"\n",
    "    peak_frac = float((100.0 - percentage)/100.0)\n",
    "    peak_max = max(drift)\n",
    "    peak_pts = np.where(drift > peak_frac * peak_max)[0]\n",
    "    return peak_pts\n",
    "\n",
    "# Fit the peak\n",
    "def fitPeak(peak_pts, x, y):\n",
    "    \"\"\"Fit the peak and estimate errors.\n",
    "    \"\"\"\n",
    "\n",
    "    peakfitcoeffs = np.polyfit(x[peak_pts], y[peak_pts], 2)\n",
    "    \n",
    "    #print \"Fit parameters: \", peakfitcoeffs\n",
    "    peakfitline = np.polyval(peakfitcoeffs,x[peak_pts])\n",
    "    res, rms = residual(peakfitline, y[peak_pts])\n",
    "\n",
    "    return peakfitline,rms, x[peak_pts], y[peak_pts]\n",
    "\n",
    "# Get peak points\n",
    "\n",
    "# YOU CAN MODIFY THIS VALUE\n",
    "# Choose the peak percentage you want to fit\n",
    "peak_percentage =  40# Change the percentage of the peak data you want to fit..\n",
    "\n",
    "# Get peak points\n",
    "peak_pts_onlcp = getPeakPts(onlcp, peak_percentage)\n",
    "peak_pts_onrcp = getPeakPts(onrcp, peak_percentage)\n",
    "\n",
    "# Fit the peaks\n",
    "fitponl, onlrms, xpolcp, ypolcp  = fitPeak(peak_pts_onlcp, ra, onlcp)\n",
    "fitponr, onrrms, xporcp, yporcp  = fitPeak(peak_pts_onrcp, ra, onrcp)\n",
    "\n",
    "# Print out the ANTENNA TEMPERATURES\n",
    "print ('Ta_ONLCP = %.3f +- %.3f [K]' %(max(fitponl), onlrms))\n",
    "print ('Ta_ONRCP = %.3f +- %.3f [K]' %(max(fitponr), onrrms))\n"
   ]
  },
  {
   "cell_type": "markdown",
   "metadata": {},
   "source": [
    "Plot the fits"
   ]
  },
  {
   "cell_type": "code",
   "execution_count": null,
   "metadata": {},
   "outputs": [],
   "source": [
    "def plotFit(ra, drift1, title, peak_pts1,fit1,drift2, peak_pts2,fit2, lab1,lab2,xp1,yp1,xp2,yp2):\n",
    "    \n",
    "    # plot the data\n",
    "    plt.figure(figsize=[15,5])\n",
    "    plt.suptitle(title)\n",
    "\n",
    "    ax = plt.subplot(121)\n",
    "    l1,= plt.plot(ra,drift1, label = 'data')\n",
    "    plt.plot(xp1,yp1,'y')\n",
    "    l3,= plt.plot(ra[peak_pts1],fit1,'r', label=lab1)\n",
    "    plt.xlabel('RA (deg)')\n",
    "    plt.ylabel('Ta (K)')\n",
    "    plt.legend()\n",
    "    plt.axhline(y=0, color='k', alpha= 0.5)\n",
    "    plt.grid()\n",
    "    lim = plt.axis('tight')\n",
    "\n",
    "    ax = plt.subplot(122)\n",
    "    l1,= plt.plot(ra,drift2, label = 'data')\n",
    "    plt.plot(xp2,yp2,'y')\n",
    "    l3,= plt.plot(ra[peak_pts2],fit2, 'r',label = lab2)\n",
    "    plt.xlabel('RA (deg)')\n",
    "    plt.ylabel('Ta (K)')\n",
    "    plt.axhline(y=0, color='k', alpha= 0.5)\n",
    "    plt.legend()\n",
    "    plt.grid()\n",
    "    lim = plt.axis('tight')\n",
    "\n",
    "plotFit(ra,onlcp,'ON PEAK FIT',peak_pts_onlcp,fitponl, onrcp, peak_pts_onrcp,fitponr,'Ta_ONLCP = %.3f +- %.3f [K]' %(max(fitponl), onlrms), 'Ta_ONRCP = %.3f +- %.3f [K]' %(max(fitponr), onrrms), xpolcp, ypolcp, xporcp, yporcp)\n",
    "\n"
   ]
  },
  {
   "cell_type": "markdown",
   "metadata": {},
   "source": [
    "# 5. <a name=\"section5\">Calculate the Point source sensitivity</a>\n",
    "[back to top](#top)"
   ]
  },
  {
   "cell_type": "markdown",
   "metadata": {
    "collapsed": true
   },
   "source": [
    "We need a conversion factor for our target source flux. We need to calculate \n",
    "the PSS of the calibrator source\n"
   ]
  },
  {
   "cell_type": "markdown",
   "metadata": {
    "collapsed": true
   },
   "source": [
    "For single dish observations, the flux standards defined by Ott et al. (1994) (http://adsabs.harvard.edu/full/1994A&amp;A...284..331O) are still in use (http://adsabs.harvard.edu/abs/1977A%26A....61...99B is an earlier flux scale).  At HartRAO we generally observe three flux calibrators: 3C123, Virgo A and Hydra A.  Most of the sources, with the exception of 3C286 and 3C295 (both too faint to be of much use to us) have shown variability on the time-scale of a decade. So it is generally a good idea to have multiple calibrators.  Three is the minimum number that would enable you to determine which source has undergone intrinsic variation.  \n",
    "\n",
    "The spectra of the sources are characterised by a frequency dependent expression with three coefficients. \n",
    "$$\\text{log } S\\text{[Jy]} = a + b * \\text{log }\\nu \\text{[MHz]} + c * \\text{log}^2 \\nu \\text{[MHz]}$$\n",
    "\n",
    "Table 5 of Ott et al. (1994) is shown below:\n",
    "\n",
    "![Ott table](images/Ott_calibrators.png)"
   ]
  },
  {
   "cell_type": "code",
   "execution_count": null,
   "metadata": {},
   "outputs": [],
   "source": [
    "def S_ott(a, b, c, nu):\n",
    "    #evaluate the Ott flux polynomial\n",
    "    return 10**(a + b * np.log10(nu) + c * np.log10(nu)**2)"
   ]
  },
  {
   "cell_type": "code",
   "execution_count": null,
   "metadata": {},
   "outputs": [],
   "source": [
    "nu = drift.header['CENTFREQ']\n",
    "HydA = S_ott(4.728, -1.025, 0.0130, nu)  #3C218 in Ott table\n",
    "print('Flux density of Hydra A at %.3f MHz is %.2f Jy'%(nu, HydA))"
   ]
  },
  {
   "cell_type": "markdown",
   "metadata": {},
   "source": [
    "Note that this is the total flux of the source.  Each polarisation of the reciever only picks up half of this flux.\n",
    "\n"
   ]
  },
  {
   "cell_type": "markdown",
   "metadata": {},
   "source": [
    "### Calculate the PSS"
   ]
  },
  {
   "cell_type": "code",
   "execution_count": null,
   "metadata": {},
   "outputs": [],
   "source": [
    "def calcpss(Ta, Taerr,flux):\n",
    "    \"\"\"\n",
    "     Calculate PSS\n",
    "    \"\"\"\n",
    "    pss = float(flux)/2.0/Ta #0.0\n",
    "    psserr = np.sqrt((Taerr/Ta)**2)*pss\n",
    "    \n",
    "    return pss, psserr\n"
   ]
  },
  {
   "cell_type": "code",
   "execution_count": null,
   "metadata": {},
   "outputs": [],
   "source": [
    "psslcp, errpsslcp = calcpss(max(fitponl), onlrms,HydA)\n",
    "pssrcp, errpssrcp = calcpss(max(fitponr), onrrms,HydA)\n",
    "\n",
    "print('Point source sensitivity of LCP channel is %.3f +- %.3f Jy/K'%(psslcp, errpsslcp))\n",
    "print('Point source sensitivity of RCP channel is %.3f +- %.3f Jy/K'%(pssrcp, errpssrcp))\n"
   ]
  },
  {
   "cell_type": "markdown",
   "metadata": {},
   "source": [
    "We have successfuly calculated the PSS of the calibrator Hydra A @ 2GHz, we can go \n",
    "on to estimate the flux density of our variable source."
   ]
  },
  {
   "cell_type": "markdown",
   "metadata": {},
   "source": [
    "Link to source [J1427-4206](2GHz_J1427-4206_tutorial.ipynb) notebook "
   ]
  },
  {
   "cell_type": "code",
   "execution_count": null,
   "metadata": {},
   "outputs": [],
   "source": []
  }
 ],
 "metadata": {
  "kernelspec": {
   "display_name": "Python 3",
   "language": "python",
   "name": "python3"
  },
  "language_info": {
   "codemirror_mode": {
    "name": "ipython",
    "version": 3
   },
   "file_extension": ".py",
   "mimetype": "text/x-python",
   "name": "python",
   "nbconvert_exporter": "python",
   "pygments_lexer": "ipython3",
   "version": "3.7.3"
  }
 },
 "nbformat": 4,
 "nbformat_minor": 1
}
