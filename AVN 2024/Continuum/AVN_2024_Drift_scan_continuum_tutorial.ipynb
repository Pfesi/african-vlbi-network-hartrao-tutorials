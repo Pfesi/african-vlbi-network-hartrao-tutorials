{
 "cells": [
  {
   "cell_type": "markdown",
   "metadata": {},
   "source": [
    "# Drift scan continuum data processing tutorials\n",
    "\n",
    "##### By Pfesi van Zyl for the AVN school at SARAO/HartRAO\n",
    "##### Last updated: 2 February 2024\n",
    "\n"
   ]
  },
  {
   "cell_type": "markdown",
   "metadata": {},
   "source": [
    "The objective of this notebook is to help you get familiar with [continuum](http://www.hartrao.ac.za/continuum/) \n",
    "data reductions. We have provided a step by step guide designed to show \n",
    "you how to extract data from [fits files](https://en.wikipedia.org/wiki/FITS) and calibrate the telescope to \n",
    "get target source flux density estimates for your single dish radio sources. \n",
    "At the end of this tutorial you should be able to \n",
    "\n",
    "* Estimate the antenna temperature of a source\n",
    "* Calculate the point source sensitivity as well as\n",
    "* Calculate the flux density of a target source\n",
    "\n",
    "\n",
    "** If there is anything you don't understand **\n",
    "\n",
    "![confused minion - image credit: FBCoverStreet.com](images/confused_minion.jpg)\n",
    "\n",
    "\n",
    "** please feel free to contact me: **\n",
    "\n",
    "** Email: pfesi@hartrao.ac.za **"
   ]
  },
  {
   "cell_type": "markdown",
   "metadata": {},
   "source": [
    "# 1. Prerequisites\n",
    "\n",
    "In these tutorials we use [Python](https://docs.python.org/3/) as the main language for processing our data. Some previous experience with the Python language will be expected.\n",
    "\n",
    "\n"
   ]
  },
  {
   "cell_type": "markdown",
   "metadata": {},
   "source": [
    "# 2. Setup\n",
    "\n",
    "You do not need to download any extra files. All the files you will need for the tutorial can be found at this [Github repository](https://github.com/Pfesi/AVN2019). **You need to download the tar file and untar it, then cd into the folder to work from that directory**."
   ]
  },
  {
   "cell_type": "markdown",
   "metadata": {
    "collapsed": true
   },
   "source": [
    "# 3. Lets get started:\n",
    "\n",
    "* [Analysis background](background_info.ipynb)\n",
    "\n",
    "\n"
   ]
  },
  {
   "cell_type": "code",
   "execution_count": null,
   "metadata": {},
   "outputs": [],
   "source": []
  }
 ],
 "metadata": {
  "kernelspec": {
   "display_name": "Python 3 (ipykernel)",
   "language": "python",
   "name": "python3"
  },
  "language_info": {
   "codemirror_mode": {
    "name": "ipython",
    "version": 3
   },
   "file_extension": ".py",
   "mimetype": "text/x-python",
   "name": "python",
   "nbconvert_exporter": "python",
   "pygments_lexer": "ipython3",
   "version": "3.11.5"
  }
 },
 "nbformat": 4,
 "nbformat_minor": 1
}
