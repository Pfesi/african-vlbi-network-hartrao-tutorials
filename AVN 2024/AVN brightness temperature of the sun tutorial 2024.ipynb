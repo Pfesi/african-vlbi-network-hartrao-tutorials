{
 "cells": [
  {
   "cell_type": "markdown",
   "id": "4186c10f",
   "metadata": {},
   "source": [
    "# Measuring the brightness temperature of the sun using a DSTV dish\n",
    "06/11/2024\n",
    "\n",
    "### DARA AVN 2024 SCHOOL (SARAO/HartRAO)\n",
    "Instructors: Dr Roelf Botha and Dr Pfesi van Zyl"
   ]
  },
  {
   "cell_type": "markdown",
   "id": "d2cbcfe3",
   "metadata": {},
   "source": [
    "<img src=\"https://www.spacetv.co.za/wp-content/uploads/2018/11/D90-O-A-T-SpaceHD-90cm-Aluminium-Dish-DStv-Approved.jpg\" width=\"300\" height=\"300\">"
   ]
  },
  {
   "cell_type": "markdown",
   "id": "51bb94bd",
   "metadata": {},
   "source": [
    "## Index\n",
    "\n",
    "1. Introduction\n",
    "\n",
    "- 1.1. theory\n",
    "\n",
    "- 1.1.1 Radio waves\n",
    "- 1.1.3 Brightness Temperature and Antenna Temperature \n",
    "- 1.1.4 Angular Sizes and the Sun’s Brightness Temperature\n",
    "\n",
    "- 1.2. Detecting Radio Emission from Space\n",
    "\n",
    "2. The Experiment\n",
    "\n",
    "- 2.1. Equipment\n",
    "\n",
    "- 2.1.1 A standard small Ku-band (12GHz) satellite dish.\n",
    "- 2.1.2 Apparatus for Measuring the Diameter of the Sun\n",
    "- 2.1.3 Apparatus for Measuring the Antenna Beamwidth\n",
    "\n",
    "- 2.2 Experimental procedure\n",
    "\n",
    "- 2.2.1 Calibrating the Radio Telescope\n",
    "- 2.2.2 Measure the Antenna Temperature from the Sun\n",
    "- 2.2.3 Measure the Angular Diameter of the telescope beam\n",
    "\n",
    "- 2.2.4 Measure the Angular diameter of the Sun\n",
    "    - 1. Estimating the temperature of the Sun using the beam size\n",
    "    - 2. Estimating the solar radius of the Sun using the angular diameter\n",
    "    - 3. Estimating the angle subtended by the Sun using the solar radius\n",
    "    - 4. Find ratio of the areas of the beams\n",
    "- 2.2.5 Calculate the Brightness Temperature of the Sun\n"
   ]
  },
  {
   "cell_type": "markdown",
   "id": "4d6e910b",
   "metadata": {},
   "source": [
    "## 1. Introduction"
   ]
  },
  {
   "cell_type": "markdown",
   "id": "a62e6db8",
   "metadata": {},
   "source": [
    "<!-- A satellite dish can be used as a remote sensing device for measuring temperature. This relies on the fact that the measured radio power emitted by an object is proportional to its temperature (i.e. technically, the radio emission from most objects occurs in the Rayleigh-Jeans tail of the Black Body brightness distribution).  In particular, a satellite dish can be used to measure the brightness temperature of the Sun at the dish operating frequency. -->"
   ]
  },
  {
   "cell_type": "markdown",
   "id": "1784799c",
   "metadata": {},
   "source": [
    "### 1.1 Theory"
   ]
  },
  {
   "cell_type": "markdown",
   "id": "f5386d16",
   "metadata": {},
   "source": [
    "#### 1.1.1 Radio waves"
   ]
  },
  {
   "cell_type": "markdown",
   "id": "a97f5c3e",
   "metadata": {},
   "source": [
    "Radio waves are electromagnetic signals having wavelengths greater than a centimetre (see Fig 1. below). For example,\n",
    "commercial FM radio operates in the frequency range from 88 to 108 MHz, corresponding to a wavelength\n",
    "of about 3 metres. Cellphones operate at a frequency $\\nu$ of about 900 MHz, i.e. a wavelength λ of 33 cm.\n",
    "\n",
    "The microwave band is the short wavelength part of the radio band and covers 1 to 30 cm wavelength.\n",
    "Microwave ovens operate at 12 cm (2.4 GHz). DSTV satellites transmit at 2.5 cm (12 GHz). DSTV dishes\n",
    "have a smooth solid surface in order to reflect incoming radio waves with high eﬃciency. Satellite dishes\n",
    "working at the longer wavelength of 8 cm (3.8 GHz) can get away with a rougher mesh surface and still have\n",
    "acceptable eﬃciency."
   ]
  },
  {
   "cell_type": "markdown",
   "id": "3c803688",
   "metadata": {},
   "source": [
    "<img src=\"VisibleLightSpectrum.jpg\" alt=\"VisibleLightSpectrum.png\" width=\"800\" height=\"200\">"
   ]
  },
  {
   "cell_type": "markdown",
   "id": "f3f0b543",
   "metadata": {},
   "source": [
    "#### 1.1..2 Radio Telescope Antennas"
   ]
  },
  {
   "cell_type": "markdown",
   "id": "17343cbe",
   "metadata": {},
   "source": [
    "A “classic” radio telescope for use in the microwave band has a circular parabolic reflector with a feed horn\n",
    "at the focus to collect the incoming microwaves and pass them to transistor amplifiers in the receiver. A\n",
    "DSTV satellite dish also works in this way. It can be used as a **mini-radio telescope by replacing the DSTV\n",
    "decoder with a radiometer for measuring the signal strength**.\n",
    "\n",
    "To understand how a reflector antenna responds to radiation coming from diﬀerent angles, consider what\n",
    "happens when a plane wave of wavelength λ arrives at a circular aperture of diameter D (Fig. 2). Constructive and destructive interference produces a circularly symmetric diﬀraction pattern, with a central\n",
    "maximum and concentric rings of decreasing strength (Fig. 3). This same pattern describes the response\n",
    "of a circular antenna to plane waves coming from diﬀerent angles, and it is then called an antenna beam\n",
    "pattern."
   ]
  },
  {
   "cell_type": "markdown",
   "id": "23e1d63e",
   "metadata": {},
   "source": [
    "<img src=\"focus.png\" alt=\"focus.png\" width=\"800\" height=\"200\">"
   ]
  },
  {
   "cell_type": "markdown",
   "id": "9ca79d9f",
   "metadata": {},
   "source": [
    "An “ideal” antenna would produce a beam that captures 100% of the incoming energy in the main beam\n",
    "and would have no sidelobes. This antenna would have a “main beam eﬃciency” $\\epsilon_{m}$ of 1.0. It is not possible to actually achieve this, and $\\epsilon_{m}$ usually lies between 0.6 and 0.8.\n",
    "\n",
    "Figs. 4 and 5 show an ideal and an actual beam pattern in cross-section on linear and logarithmic scales.\n",
    "The “ideal” pattern has been modelled here with a parabolic shape, while the mathematical form of the real\n",
    "pattern is a sinc$^{2} or \\bigg(\\frac{sin (x)}{x}\\bigg)^{2}$ function. This describes the diﬀraction pattern where nothing obstructs the path of\n",
    "the waves, i.e. it has an “unblocked aperture”, and is uniformly illuminated. The first minimum or null in\n",
    "the pattern occurs at a radius of about \n",
    "1.2$\\frac{λ}{D}$ radians, so the beamwidth to first nulls is\n",
    "\n",
    "$\\begin{equation} \n",
    "\\label{eq:bwfn} \\tag{1}\n",
    " BWFN \\sim 2.4\\frac{\\lambda}{D} [radians]\n",
    "\\end{equation}$\n",
    "\n",
    "The beamwidth at the half-power points (HPBW), also called the Full Width at Half Maximum (FWHM),\n",
    "is about half this, as shown in figs. 4 and 5.\n",
    "\n",
    "$\\begin{equation} \n",
    "\\label{eq:hpbw} \\tag{2}\n",
    " HPBW = FWHM \\sim BWFN/2 = 1.2\\frac{\\lambda}{D} [radians]\n",
    "\\end{equation}$\n",
    "\n"
   ]
  },
  {
   "cell_type": "markdown",
   "id": "034ffd9d",
   "metadata": {},
   "source": [
    "#### 1.1.3 Brightness Temperature and Antenna Temperature "
   ]
  },
  {
   "cell_type": "markdown",
   "id": "719db8a6",
   "metadata": {},
   "source": [
    "Fig. 6 shows the brightness as a function of frequency for several black body radiators modelled as having\n",
    "equal size but diﬀerent temperatures. The frequencies of satellite TV transmission and visible light are\n",
    "marked. Clearly, hotter objects produce more radiation than cooler ones, and the brightness maximum\n",
    "occurs at a higher frequency. The wavelength or frequency at which the intensity peaks is given by the\n",
    "well-known Wien displacement law."
   ]
  },
  {
   "cell_type": "markdown",
   "id": "597b2013",
   "metadata": {},
   "source": [
    "<img src=\"blackbody.png\" alt=\"blackbody.png\" width=\"500\" height=\"200\">"
   ]
  },
  {
   "cell_type": "markdown",
   "id": "d61930f7",
   "metadata": {},
   "source": [
    "From Fig. 6 we can see that for all objects with temperatures more than a few degrees above absolute zero,\n",
    "the brightness peak occurs well above the operating range of radio telescopes. Hence radio telescopes work in the range where h$\\nu$ << $kT$ , so the Rayleigh-Jeans law applies and the brightness B - and hence the power\n",
    "measured by a radio telescope - is proportional to the temperature T of the emitting source:\n",
    "\n",
    "$\\begin{equation} \n",
    "\\label{eq:tb} \\tag{3}\n",
    " B = \\frac{2kT}{\\lambda^{2}} \\quad [W m^{-2} Hz^{-1} sr^{-1}]\n",
    "\\end{equation}$\n",
    "\n",
    "where $k$ = Boltzmann’s constant = 1.38 x 10$^{-23}$ [$J K^{-1}$]."
   ]
  },
  {
   "cell_type": "markdown",
   "id": "1c357fad",
   "metadata": {},
   "source": [
    "The apparent temperature of an emitting source at a given frequency is a property of the object emitting\n",
    "the radio waves. This is called its “${\\textbf{brightness temperature}}$”, $T_{B}$.\n",
    "\n",
    "For some astronomical objects the brightness temperature that is measured using a radio telescope is meaningful as a physical temperature, for example when observing a planet or moon. For other objects it may\n",
    "not be, depending on the mechanism that produced the radio emission.\n",
    "\n",
    "**By pointing the antenna at objects of known temperature that completely fill the beam, we can calibrate\n",
    "the output signal in units of absolute temperature (Kelvins). So one can think of a radio telescope as a\n",
    "remote-sensing thermometer.**\n",
    "\n",
    "The “${\\textbf{antenna temperature}}$” $T_{A}$ of a source is the increase in temperature (receiver output) measured\n",
    "when the antenna is pointed at a radio-emitting source. It will be less than brightness temperature of the\n",
    "source if the source does not fill the whole beam of the telescope. Note that “antenna temperature” has\n",
    "nothing to do with the physical temperature of the antenna.\n",
    "\n",
    "**To obtain the brightness temperature $T_{B}$ of the emitting source from its measured antenna temperature $T_{A}$,\n",
    "we have to measure the angular size of the source and of the telescope beam. The ratio of the angular size\n",
    "(solid angle) of the source to the angular size of the beam gives the fraction of the beam that is filled by the\n",
    "source.** This will be useful to remember during the experiment later on."
   ]
  },
  {
   "cell_type": "markdown",
   "id": "09d89143",
   "metadata": {},
   "source": [
    "<img src=\"radii.png\" alt=\"radii.png\" width=\"800\" height=\"200\">"
   ]
  },
  {
   "cell_type": "markdown",
   "id": "6091c1e6",
   "metadata": {},
   "source": [
    "#### 1.1.4 Angular Sizes and the Sun’s Brightness Temperature"
   ]
  },
  {
   "cell_type": "markdown",
   "id": "ceea8b8a",
   "metadata": {},
   "source": [
    "The diﬀerence between physical diameter and angular diameter is shown in Fig. 7. For example, the Sun\n",
    "has a physical diameter of 1.4 million km, while the Moon has a diameter of 3500 km. Yet, as seen from\n",
    "the Earth, the Sun and the Moon appear to be the same size, i.e. they have the same angular diameter.\n",
    "How can this be? The Sun is 400 times bigger than the Moon, but it is also 400 times further away. As the\n",
    "projection of the antenna beam onto the sky is two-dimensional, we shall need to find the angular area that\n",
    "it covers. Angular area is called a “solid angle” and the units are radians$^{2}$, or steradians (sr). An object\n",
    "with an angular radius θ radians subtends a solid angle"
   ]
  },
  {
   "cell_type": "markdown",
   "id": "5ca37c6d",
   "metadata": {},
   "source": [
    "$\\begin{equation} \n",
    "\\label{eq:4} \\tag{4}\n",
    " \\Omega = 2 \\pi (1 - cos \\theta) \\quad [sr]\n",
    "\\end{equation}$\n",
    "\n",
    "For small $\\theta$,\n",
    "\n",
    "$\\begin{equation} \n",
    "\\label{eq:5} \\tag{5}\n",
    " \\Omega = \\pi \\theta^{2} \\quad [sr]\n",
    "\\end{equation}$"
   ]
  },
  {
   "cell_type": "markdown",
   "id": "95728d57",
   "metadata": {},
   "source": [
    "We can use this equation to calculate the solid angle of the Sun as seen from the Earth, $\\Omega_{s}$.\n",
    "\n",
    "The beam solid angle $\\Omega_{A}$ of the antenna can be obtained from the half-power beamwidth (HPBW) - in units\n",
    "of radians - by assuming the main lobe of the beam has a Gaussian shape:\n",
    "\n",
    "$\\begin{equation} \n",
    "\\label{eq:6} \\tag{6}\n",
    " \\Omega_{A} \\sim 1.333 (HPBW)^{2} \\quad [sr]\n",
    "\\end{equation}$\n",
    "\n",
    "For small $\\theta$,\n",
    "\n",
    "$\\begin{equation} \n",
    "\\label{eq:7} \\tag{7}\n",
    " T_{B} = \\frac{\\Omega_{A}T_{A}}{\\Omega_{s}\\epsilon_{m}} \\quad [K]\n",
    "\\end{equation}$"
   ]
  },
  {
   "cell_type": "markdown",
   "id": "94b69725",
   "metadata": {},
   "source": [
    "### 1.2. Detecting Radio Emission from Space"
   ]
  },
  {
   "cell_type": "markdown",
   "id": "0fed869e",
   "metadata": {},
   "source": [
    "When the telescope looks at a radio source in the sky, the receiver output is the sum of the radio waves\n",
    "received from several diﬀerent sources:\n"
   ]
  },
  {
   "cell_type": "markdown",
   "id": "37ed1a23",
   "metadata": {},
   "source": [
    "- Behind the radio source whose brightness we want to measure is the cosmic microwave background (CMB) coming from every direction in space. This is the radiation emitted as the first atoms formed, 380 000 years after the Big Bang. The black body temperature of the CMB Tcmb has now decreased to 2.7 Kelvins, as the expansion of the Universe has stretched out the waves by a factor of 1000. The CMB produces a brightness temperature $T_{Bcmb}$ of $\\sim$2.7 K at 1.4 or 4 GHz, reducing to 2.5 K at 12 GHz.\n"
   ]
  },
  {
   "cell_type": "markdown",
   "id": "4094cc35",
   "metadata": {},
   "source": [
    "\n",
    "- The emission from the radio source we want to measure, which produces the antenna temperature $T_{A}$.\n"
   ]
  },
  {
   "cell_type": "markdown",
   "id": "c3c4f4de",
   "metadata": {},
   "source": [
    "- Radiation from the dry atmosphere $T_{at}$ and from the water vapour in the atmosphere $T_{wv}$. The dry air adds about 1K, and at 12 GHz water vapour adds 1 - 2 K, depending on the humidity."
   ]
  },
  {
   "cell_type": "markdown",
   "id": "16930697",
   "metadata": {},
   "source": [
    "- The radiation the feed receives through the antenna sidelobes from the (warm - 290 K) ground or nearby buildings beyond the edge of the antenna, of brightness temperature $T_{g}$. With the antenna pointing straight up at zenith this could add 5 - 15 K; 10 K is a reasonable number to use. It increases when pointing close to the horizon."
   ]
  },
  {
   "cell_type": "markdown",
   "id": "e42cf595",
   "metadata": {},
   "source": [
    "- The amplifiers in the receiver generate their own electronic noise and so produce a receiver noise temperature $T_{R}$."
   ]
  },
  {
   "cell_type": "markdown",
   "id": "ec6f360d",
   "metadata": {},
   "source": [
    "The sum of these parts is called the “system temperature” $T_{sys}$. Summing from the most distant noise\n",
    "contributor to the nearest we have:\n",
    "\n",
    "$\\begin{equation} \n",
    "\\label{eq:8} \\tag{8}\n",
    " T_{sys} = T_{Bcmb} + T_{A} + T_{at} + T_{wv} + T_{g} + T_{R} \\quad [K]\n",
    "\\end{equation}$"
   ]
  },
  {
   "cell_type": "markdown",
   "id": "45b72a59",
   "metadata": {},
   "source": [
    "## 2. The Experiment"
   ]
  },
  {
   "cell_type": "markdown",
   "id": "7d295e5b",
   "metadata": {},
   "source": [
    "You are now going to use the principles discussed in the previous section to calculate the brightness temperature of the Sun. But before you start, we need to setup our experiment. Here's what we are going to need:"
   ]
  },
  {
   "cell_type": "markdown",
   "id": "ae9dbeeb",
   "metadata": {},
   "source": [
    "### 2.1 Equipment"
   ]
  },
  {
   "cell_type": "markdown",
   "id": "a644a95a",
   "metadata": {},
   "source": [
    "#### 2.1.1. A standard small Ku-band (12GHz) satellite dish. \n",
    "\n",
    "The main parts of a simple radio telescope comprising a satellite dish and radiometer are shown in the figure below. \n",
    "\n",
    "The dish output is fed to a radiometer. A “radiometer” means a “radio-meter” –\n",
    "i.e. a device that measures the strength of the radio signal coming from the receiver on the dish.\n",
    "Since the incoming radio waves from natural emitters are weak and noise-like. If the output of the detector is\n",
    "connected to a loudspeaker, the signal sounds like a hiss, as one hears if a radio is tuned oﬀ-station. The\n",
    "internal noise produced in the amplifiers is generally larger than the signal from natural radio sources.\n"
   ]
  },
  {
   "cell_type": "markdown",
   "id": "8d0c2c46",
   "metadata": {},
   "source": [
    "<img src=\"antenna2.png\" alt=\"antenna2.png\" >"
   ]
  },
  {
   "cell_type": "markdown",
   "id": "6c6184f7",
   "metadata": {},
   "source": [
    "#### 2.1.2. Apparatus for Measuring the Diameter of the Sun\n",
    "\n",
    "You will need: \n",
    " - two pieces of card or paper, \n",
    " - a pencil, \n",
    " - a sharp knife, \n",
    " - a ruler and \n",
    " - a 2 metre tape measure."
   ]
  },
  {
   "cell_type": "markdown",
   "id": "e6aa15a9",
   "metadata": {},
   "source": [
    "#### 2.1.3. Apparatus for Measuring the Antenna Beamwidth\n",
    "\n",
    "You will need:\n",
    "- pen and \n",
    "- notepad or paper.\n",
    "\n",
    "\n",
    "- (Optionally): Apparatus required is a tripod or mount on which the satellite dish can be locked in\n",
    "position, a timer (e.g. watch on which seconds are displayed). We wont be using this for our experiment.\n"
   ]
  },
  {
   "cell_type": "markdown",
   "id": "88394a46",
   "metadata": {},
   "source": [
    "### 2.2 Experimental procedure\n",
    "\n",
    "\n",
    "The temperature brightness $T_{B}$ is described in eq. (7) as \n",
    "\n",
    "$\\begin{equation} \n",
    " T_{B} = \\frac{\\Omega_{A}T_{A}}{\\Omega_{s}\\epsilon_{m}} \\quad [K]\n",
    "\\end{equation}$\n",
    "\n",
    "where $\\Omega_{A}$ is the beam solid angle, $\\Omega_{s}$ is the solid angle of the Sun as seen from Earth,    $\\epsilon_{m}$ is the main beam eﬃciency and $T_{A}$ is the emission from the radio source we want to measure. In order to measure $T_{A}$ we need to establish a conversion factor or \"Calibrate our telescope\" so that we can be able to express our detected radio emission it in terms of temperature in Kelvins [K].\n",
    "\n"
   ]
  },
  {
   "cell_type": "markdown",
   "id": "013484e2",
   "metadata": {},
   "source": [
    "#### 2.2.1 Calibrating the Radio Telescope\n",
    "\n",
    "When a radio telescope detects radio emission from a celestial object, the dish produces an output voltage proportional to the object's radio power (a \"square-law\" detector) plus its own internal receiver noise. This voltage is displayed on a meter with an arbitrary scale. To get the temperature brightness of the object, we need a way to establish a scale of Kelvins per radiometer output unit. To establish a scale of Kelvins per radiometer output unit, we use a technique that leverages the sky and ground as reference points. \n",
    "\n",
    "##### Determining the Scaling Factor\n",
    "\n",
    "We can determine this scaling factor by using the sky as a \"cold load\" and the ground as a \"hot load.\"\n",
    "\n",
    "- **Cold Load (Sky)**: By pointing the telescope at the zenith, we effectively observe a \"cold load\" with a temperature $T_{sky} \\sim$ 10 K. This temperature accounts for the Cosmic Microwave Background, atmospheric contributions, and ground radiation.\n",
    "\n",
    "- **Hot Load (Ground)**: Aiming the telescope at the ground provides a \"hot load\" with a temperature $T_{g} \\sim$ 300K on a warm day.\n",
    " \n",
    " \n",
    "Let:\n",
    " - $V_{1}$:Meter reading for the sky\n",
    " - $V_{2}$: Meter reading for the ground\n",
    " - $T_{R}$: Receiver noise temperature\n",
    " - $T_{sky}$: Effective sky temperature\n",
    " - $T_{g}$: Ground temperature\n",
    "- c: Constant of proportionality\n",
    "\n",
    "if $V_{1}$ and $V_{2}$ are the meter readings for the sky and ground, respectively. The relationship between temperature and voltage can be expressed as:\n",
    "  \n",
    "$\\begin{equation} \n",
    "\\label{eq:9} \\tag{9}\n",
    " T_{R} + T_{sky}= cV_{1} \\quad [K]\n",
    "\\end{equation}$ \n",
    "\n",
    "where $T_{sky} = T_{Bcmb} + T_{at} + T_{wv} + T_{g} \\sim 10 K.$\n",
    "\n",
    "$\\begin{equation} \n",
    "\\label{eq:10} \\tag{10}\n",
    " T_{R} + T_{g}= cV_{2} \\quad [K]\n",
    "\\end{equation}$ \n",
    "\n",
    "By solving these equations simultaneously, we can determine the value of $c$ and establish a calibrated temperature scale for the radiometer.\n",
    "\n",
    "\n",
    "##### HartRAO Satellite dish Radiometer\n",
    "\n",
    "\n",
    "On the HartRAO satellite dish radiometer, typical meter readings are:\n",
    "\n",
    "10: Aimed at the sky ($V_{1}$)\n",
    "\n",
    "30: Aimed at the ground ($V_{2}$)\n",
    "\n",
    "24: Aimed at the Sun ($V_{3}$), you will need this for the next calculation\n",
    "\n",
    "By using these readings and the known temperatures of the sky and ground, we can calculate the scaling factor c and subsequently determine the temperature of the Sun (or any other celestial object) based on its corresponding meter reading."
   ]
  },
  {
   "cell_type": "markdown",
   "id": "d85cc813",
   "metadata": {},
   "source": [
    "##### >>> Solution for Determining the Scaling Factor\n",
    "\n",
    "Step 1: Establish the equations:\n",
    "\n",
    "As given in the experiment notes, we have two equations:\n",
    "  \n",
    "$\\begin{equation} \n",
    "\\label{eq:9} \\tag{9}\n",
    " T_{R} + T_{sky}= cV_{1} \\quad [K]\n",
    "\\end{equation}$ \n",
    "\n",
    "$\\begin{equation} \n",
    "\\label{eq:10} \\tag{10}\n",
    " T_{R} + T_{ground}= cV_{2} \\quad [K]\n",
    "\\end{equation}$ \n",
    " \n",
    "Step 2: Solve for the scaling factor, c:\n",
    "\n",
    "To find the scaling factor, we can subtract equation 9 from equation 10:\n",
    "\n",
    "  \n",
    "$\\begin{equation} \n",
    " (T_{R} + T_{g}) - (T_{R} + T_{sky}) = cV_{2} - cV_{1} \n",
    "\\end{equation}$ \n",
    "\n",
    "This simplifies to:\n",
    "\n",
    "$\\begin{equation} \n",
    " (T_{g} - T_{sky}) = c(V_{2} - V_{1}) \n",
    "\\end{equation}$ \n",
    "\n",
    "Therefore, the scaling factor, c, is:\n",
    "\n",
    "$\\begin{equation} \n",
    " c=\\frac{T_{g} - T_{sky}}{V_{2} - V_{1}}\n",
    "\\end{equation}$ \t\n",
    " \n",
    "\n",
    "Step 3: Calculate the scaling factor using given values:\n",
    "\n",
    "$\\begin{equation} \n",
    " c=\\frac{300 K - 10 K}{30 - 10} = \\frac{290 K}{20} = 14.5 \\quad K/unit\n",
    "\\end{equation}$ \n",
    "\n"
   ]
  },
  {
   "cell_type": "code",
   "execution_count": 1,
   "id": "ddb51703",
   "metadata": {},
   "outputs": [
    {
     "data": {
      "text/plain": [
       "'The scaling factor is 14.5 kelvins per arbitrary unit'"
      ]
     },
     "execution_count": 1,
     "metadata": {},
     "output_type": "execute_result"
    }
   ],
   "source": [
    "Tg=300\n",
    "Tsky=10\n",
    "V1=10\n",
    "V2=30\n",
    "\n",
    "c= (Tg-Tsky)/(V2-V1)\n",
    "\n",
    "f'The scaling factor is {c} kelvins per arbitrary unit'"
   ]
  },
  {
   "cell_type": "markdown",
   "id": "ac0f40c7",
   "metadata": {},
   "source": [
    "Now that we know $c$ we can determine the noise contribution from $T_{R}$\n",
    "\n",
    "substituting for $c$ in equation (9)\n",
    "\n",
    "$\\begin{equation}\n",
    " 14.5(10) = T_{R} + 10\n",
    "\\end{equation}$ \n",
    "\n",
    "$\\begin{equation}\n",
    " T_{R} = 145 - 10\n",
    "\\end{equation}$ \n",
    "\n",
    "$\\begin{equation}\n",
    " T_{R} = 135 \\quad [K]\n",
    "\\end{equation}$ \n"
   ]
  },
  {
   "cell_type": "code",
   "execution_count": 2,
   "id": "ff6d120e",
   "metadata": {},
   "outputs": [
    {
     "data": {
      "text/plain": [
       "'The noise temperature of the reciever is 135 K'"
      ]
     },
     "execution_count": 2,
     "metadata": {},
     "output_type": "execute_result"
    }
   ],
   "source": [
    "TR = int((c*V1)-Tsky)\n",
    "\n",
    "f'The noise temperature of the reciever is {TR} K'"
   ]
  },
  {
   "cell_type": "markdown",
   "id": "4af11fdb",
   "metadata": {},
   "source": [
    "#### 2.2.2 Measure the Antenna Temperature from the Sun\n",
    "\n",
    "We need to aim the telescope at the Sun. With an oﬀset-fed paraboloid this can be a litle tricky. Hold\n",
    "the dish horizontal. then turn the dish horizontally so the shadow of the feed arm falls across the centre\n",
    "of the dish, demonstarated her by Mike in the image below. \n",
    "\n",
    "<img src=\"mike.png\" alt=\"mike.png\" >\n",
    "\n",
    "Then rotate the dish in elevation so the shadow of the feed arm on the dish gets shorter. The\n",
    "Sun comes into the beam just after the shadow leaves the edge of the dish. Adjust the direction gently up\n",
    "and down and sideways to maximise the signal from the Sun; the signal should roughly double. Once the telescope is accurately pointed at the Sun, record the new meter reading, $V_{3}$. This reading corresponds to the combined temperature of the receiver, sky, and Sun, and is expressed as:\n",
    "\n",
    "$\\begin{equation} \n",
    "\\label{eq:11} \\tag{11}\n",
    "cV_{3} =  T_{R} + T_{sky} + T_{Asun} \n",
    "\\end{equation}$ \n",
    "\n",
    "Calculating the Sun's Antenna Temperature:\n",
    "\n",
    "Since the scaling factor, $c$, and the receiver temperature, $T_{R}$, are known from the calibration process, and we have a reasonable estimate of the sky temperature, $T_{sky}$, we can use equation 11 to directly calculate the antenna temperature of the Sun, $T_{Asun}$.\n",
    "\n",
    "$\\begin{equation} \n",
    "T_{Asun} = cV_{3} -  T_{R} - T_{sky}  \n",
    "\\end{equation}$ \n"
   ]
  },
  {
   "cell_type": "markdown",
   "id": "e3f479be",
   "metadata": {},
   "source": [
    "#### >>> Solution for Measuring the Antenna Temperature from the Sun\n",
    "\n",
    "$\\begin{equation} \n",
    "\\label{eq:17} \\tag{12}\n",
    "T_{Asun}  = (14.5 K/unit)(24 units) - 135 K - 10 K \n",
    "\\end{equation}$ \n",
    "\n",
    "$\\begin{equation} \n",
    "T_{Asun}  = 348 - 145 K \n",
    "\\end{equation}$ \n",
    "\n",
    "$T_{Asun}$ = 203 K\n",
    "\n",
    " "
   ]
  },
  {
   "cell_type": "code",
   "execution_count": 3,
   "id": "bb700b50",
   "metadata": {},
   "outputs": [
    {
     "data": {
      "text/plain": [
       "'The antenna temperature of the sun is 203 K'"
      ]
     },
     "execution_count": 3,
     "metadata": {},
     "output_type": "execute_result"
    }
   ],
   "source": [
    "V3=24\n",
    "\n",
    "TAsun = int(c*V3) - TR - Tsky\n",
    "\n",
    "f'The antenna temperature of the sun is {TAsun} K'"
   ]
  },
  {
   "cell_type": "markdown",
   "id": "33306aaa",
   "metadata": {},
   "source": [
    "But the Sun is much hotter than this! To understand why this is so, and to work out the real\n",
    "temperature of the Sun, we must consider the telescope's field of view. We have to figure out how much of the sky the dish “sees” (or more technically, the beam solid angle) at a given time.\n"
   ]
  },
  {
   "cell_type": "markdown",
   "id": "a4313849",
   "metadata": {},
   "source": [
    "#### 2.2.3 Measure the Angular Diameter of the telescope beam \n",
    "\n",
    "<!-- \n",
    "Next we need to measure the angular diameter of the Sun and of the telescope beam in order to calculate\n",
    "the solid angles they subtend. -->\n",
    "\n",
    "<!--img src=\"FOV.jpg\" alt=\"FOV.jpg\" -->\n",
    "\n",
    "<!-- To accurately calculate the solid angles subtended by the Sun and the telescope's beam, we must first measure their respective angular diameters. -->"
   ]
  },
  {
   "cell_type": "markdown",
   "id": "37109ca8",
   "metadata": {},
   "source": [
    "##### 1. Angular diameter or angular resolution of The telescope beam\n",
    "\n",
    "A radio telescope, like the satellite dish you're using, is sensitive to radio waves originating from a specific region of the sky. This region is known as the antenna's \"beam.\"\n",
    "\n",
    "##### Understanding Beamwidth\n",
    "What is the diameter of this beam ? \n",
    "\n",
    "As the radio source moves away from the middle of the beam, the angle of the waves hitting the dish changes. When all the waves coming from each part of the dish are in phase, we get the strongest signal, when the\n",
    "emitter is in the centre of the beam. Moving away from the centre, the waves from different parts\n",
    "of the dish start to become out of phase with each other, causing destructive interference. The\n",
    "telescope sensitivity falls to a minimum when the incoming wave is tilted at an angle so that\n",
    "there is a phase difference of approximately one wavelength across the diameter of the dish.\n",
    "This minimum is called the “first null” in the antenna beam pattern. We normally use the points\n",
    "where the response of the antenna has fallen to half that in the centre of the beam defined as the\n",
    "“half-power beamwidth” ($\\theta_{HPBW}$) or angular resolution.\n",
    "\n",
    "$\\theta_{HPBW}$ ~ wavelength / diameter of the dish, in units of radians (1 radian = 57.3 degrees). \n",
    "\n",
    "For a circular aperture, like our dish, the angular resolution, $\\theta_{HPBW}$, can be estimated using the Rayleigh criterion given in equation (2).\n",
    "\n",
    "* Calculate the HPBW of the telescope beam.\n",
    "\n",
    "${\\textbf{For comparison, also calculate the resolving power of your eye (2 mm pupil) \n",
    "and of a 20cm optical telescope, using}}$\n",
    "${\\textbf{ a wavelength of 500 nm)}}$.\n",
    "\n",
    "##### HartRAO Satellite dish parameters\n",
    "\n",
    "dish_diameter = 50 # cm, satellite dish diameter\n",
    "\n",
    "wavLen = 2.5 # cm, observing wavelength"
   ]
  },
  {
   "cell_type": "markdown",
   "id": "3c354f8e",
   "metadata": {},
   "source": [
    "#### >>> Solution for measuring the Angular diameter or angular resolution of The telescope beam\n",
    "\n",
    "1. Calculation of the $\\theta_{HPBW}$\n",
    "\n",
    "$\\begin{equation} \n",
    "\\label{eq:13} \n",
    "\\theta_{HPBW} =  (1.2)(obs\\_freq) / dish\\_diameter\n",
    "\\end{equation}$\n",
    "\n",
    "$\\begin{equation}\n",
    "\\theta_{HPBW} =  (1.2)(2.5) / 50\n",
    "\\end{equation}$\n",
    "\n",
    "$\\begin{equation} \n",
    "\\theta_{HPBW} =  0.060 \\quad [radians]\n",
    "\\end{equation}$\n",
    "\n",
    "= 3.4 degrees (approx)\n"
   ]
  },
  {
   "cell_type": "code",
   "execution_count": 4,
   "id": "3cfeb5a2",
   "metadata": {},
   "outputs": [
    {
     "data": {
      "text/plain": [
       "'The hpbw or angular diameter of the antenna beam is 0.06 radians or ~3.44 degrees'"
      ]
     },
     "execution_count": 4,
     "metadata": {},
     "output_type": "execute_result"
    }
   ],
   "source": [
    "import numpy as np\n",
    "\n",
    "dish_diameter = 50 \n",
    "wavLen = 2.5\n",
    "theta_hpwb_rad = (1.2*wavLen)/dish_diameter\n",
    "theta_hpwb = np.rad2deg(theta_hpwb_rad) # convert radians to degrees\n",
    "\n",
    "f'The hpbw or angular diameter of the antenna beam is {theta_hpwb_rad:.2f} radians or ~{theta_hpwb:.2f} degrees'"
   ]
  },
  {
   "cell_type": "markdown",
   "id": "df516c9f",
   "metadata": {},
   "source": [
    "This is the beam of the telescope. We now need to figure out what is the beam solid angle $\\Omega_{A}$ or the angle subtended in the sky by the telescope beam. This is a crucial parameter in radio astronomy as it determines the amount of celestial radiation that the telescope can collect or more technically a measure of the telescope's field of view on the sky. A larger beam solid angle means the telescope collects radiation from a larger area of the sky, while a smaller beam solid angle provides a more focused view. \n",
    "\n",
    "Calculate the antenna beam solid angle $\\Omega_{A}$"
   ]
  },
  {
   "cell_type": "markdown",
   "id": "550978f6",
   "metadata": {},
   "source": [
    "#### >>> Solution for measuring the solid angle or area of The telescope beam\n",
    "\n",
    "1. Calculation of the solid angle $\\Omega_{A}$\n",
    "\n",
    "The beam area (solid angle) is agiven in eqn. (6)\n",
    "\n",
    "$\\begin{equation} \n",
    "\\Omega_{A} =  1.133 (theta\\_hpbw)^{2} \\quad [sr]\n",
    "\\end{equation}$\n",
    "\n",
    "$\\begin{equation} \n",
    "\\Omega_{A} =  1.133 (3.44)^{2} \\quad [sr]\n",
    "\\end{equation}$\n",
    "\n",
    "= 13.39"
   ]
  },
  {
   "cell_type": "code",
   "execution_count": 5,
   "id": "ed145a2e",
   "metadata": {},
   "outputs": [
    {
     "data": {
      "text/plain": [
       "'The solid angle or area of the antenna beam is 13.39 square degrees'"
      ]
     },
     "execution_count": 5,
     "metadata": {},
     "output_type": "execute_result"
    }
   ],
   "source": [
    "import math \n",
    "\n",
    "omega_a_deg = 1.133 * (theta_hpwb)**2\n",
    "\n",
    "f'The solid angle or area of the antenna beam is {omega_a_deg:.2f} square degrees'"
   ]
  },
  {
   "cell_type": "markdown",
   "id": "7f65e1c6",
   "metadata": {},
   "source": [
    "#### 2.2.4 Measure the Angular diameter of the Sun\n",
    "\n",
    "To measure the angular diameter of the Sun, we will use the pinhole projection experiment. Assuming that our target, the Sun, is much smaller or can fit within the beam of our antenna, we now want to find out what its \n",
    "angular diameter is.\n",
    "\n",
    "Put simply, we need to know how many times the Sun would fit into the beam of the telescope."
   ]
  },
  {
   "cell_type": "markdown",
   "id": "2f0b45d6",
   "metadata": {},
   "source": [
    "##### 1. Estimating the temperature of the Sun using the beam size\n",
    "<img src=\"pinhole1.png\" alt=\"pinhole1.png\">  \n",
    "\n"
   ]
  },
  {
   "cell_type": "markdown",
   "id": "a62af4c7",
   "metadata": {},
   "source": [
    "Use pinhole projection to measure the angular diameter of the Sun. On one piece of card use a ruler\n",
    "and pencil to mark three equilateral triangles several cm apart, with sides of about two, three and four\n",
    "millimetres. Cut out the triangles using the sharp knife and ruler. The card with the holes is used to project images of the Sun onto the second card (Fig above and below). The two cards\n",
    "need to be separated by a distance D, measured by the tape measure. "
   ]
  },
  {
   "cell_type": "markdown",
   "id": "bfd41743",
   "metadata": {},
   "source": [
    "**If the dish can be pointed accurately using a tripod, the beamwidth could actually be measured,\n",
    "by scanning across the Sun or letting it drift through the beam. This is one of the methods used to\n",
    "observe radio sources by the HartRAO 26m telescope.**"
   ]
  },
  {
   "cell_type": "markdown",
   "id": "3a836374",
   "metadata": {},
   "source": [
    "<img src=\"pinhole2.png\" alt=\"pinhole2.png\"  >\n",
    "\n",
    "##### HartRAO Satellite dish parameters\n",
    "\n",
    "D = 2000: mm, length of distance between the 2 papers or cards (from 2, above) measured with a tape measure\n",
    "\n",
    "d = 20: mm, The linear diameter of the projected Sun measured with the ruler.\n"
   ]
  },
  {
   "attachments": {},
   "cell_type": "markdown",
   "id": "380bda46",
   "metadata": {},
   "source": [
    "#### >>> Solution for measuring the Angular diameter or angular resolution of The telescope beam\n",
    "\n",
    "The angular diameter of the Sun is d/D radians:\n",
    "\n",
    "$\\begin{equation} \n",
    "\\theta_{sun} =  \\frac{d}{D} \\quad [radians]\n",
    "\\end{equation}$\n",
    "\n",
    "$\\begin{equation} \n",
    "\\theta_{sun} =  \\frac{20}{200} \\quad [radians]\n",
    "\\end{equation}$\n",
    "\n",
    "$\\begin{equation} \n",
    "\\theta_{sun} =  0.01 \\quad [radians]\n",
    "\\end{equation}$\n",
    "\n",
    "or \n",
    " \n",
    " $\\begin{equation} \n",
    "\\theta_{sun} =  0.57^{\\circ} \n",
    "\\end{equation}$"
   ]
  },
  {
   "cell_type": "code",
   "execution_count": 6,
   "id": "da1deaa2",
   "metadata": {},
   "outputs": [
    {
     "data": {
      "text/plain": [
       "'The angular diameter of the Sun = 0.01 [radians] or 0.57 degrees'"
      ]
     },
     "execution_count": 6,
     "metadata": {},
     "output_type": "execute_result"
    }
   ],
   "source": [
    "d=20\n",
    "D=2000\n",
    "theta_sun = d/D\n",
    "theta_sun_deg = np.rad2deg(theta_sun)\n",
    "f'The angular diameter of the Sun = {theta_sun} [radians] or {theta_sun_deg:.2} degrees'"
   ]
  },
  {
   "cell_type": "markdown",
   "id": "83f1e399",
   "metadata": {},
   "source": [
    "##### 2. Estimating the solar radius of the Sun using the angular diameter\n",
    "\n",
    "The solar radius is given as \n",
    "\n",
    "$\\begin{equation} \n",
    "\\theta_{s} =  \\frac{d}{2D} \\quad [radians]\n",
    "\\end{equation}$\n",
    "\n",
    "$\\begin{equation} \n",
    "\\theta_{s} =  \\frac{20}{2*2000} \\quad [radians]\n",
    "\\end{equation}$\n"
   ]
  },
  {
   "cell_type": "code",
   "execution_count": 7,
   "id": "ae3f0e39",
   "metadata": {},
   "outputs": [
    {
     "data": {
      "text/plain": [
       "'The solar radius of the Sun = 0.005 [radians] or 0.29 degrees'"
      ]
     },
     "execution_count": 7,
     "metadata": {},
     "output_type": "execute_result"
    }
   ],
   "source": [
    "d=20\n",
    "D=2000\n",
    "theta_s = d/(2*D)\n",
    "theta_s_deg = np.rad2deg(theta_s)\n",
    "f'The solar radius of the Sun = {theta_s} [radians] or {theta_s_deg:.2} degrees'"
   ]
  },
  {
   "cell_type": "markdown",
   "id": "12bb8a14",
   "metadata": {},
   "source": [
    "##### 3. Estimating the angle subtended by the Sun using the solar radius\n",
    "\n",
    "The angle subtended by the sun or are of the sun is given by equation 5\n",
    "\n",
    "$\\begin{equation} \n",
    "\\Omega_{s} =  \\pi\\theta^{2} \\quad [sr]\n",
    "\\end{equation}$\n",
    "\n",
    "$\\begin{equation} \n",
    "\\Omega_{s} =  \\pi(theta\\_s\\_deg)^{2} \\quad [sr]\n",
    "\\end{equation}$\n",
    "\n",
    "$\\begin{equation} \n",
    "\\Omega_{s} =  \\pi(0.29)^{2} \\quad [sr]\n",
    "\\end{equation}$\n",
    "\n",
    "$\\begin{equation} \n",
    "\\Omega_{s} =  0.26 \\quad [sr]\n",
    "\\end{equation}$"
   ]
  },
  {
   "cell_type": "code",
   "execution_count": 8,
   "id": "b91347ae",
   "metadata": {},
   "outputs": [
    {
     "data": {
      "text/plain": [
       "'The angle subtended by the Sun = 0.26 sr'"
      ]
     },
     "execution_count": 8,
     "metadata": {},
     "output_type": "execute_result"
    }
   ],
   "source": [
    "\n",
    "omega_s_deg = math.pi*(theta_s_deg)**2\n",
    "\n",
    "f'The angle subtended by the Sun = {omega_s_deg:.2} sr'"
   ]
  },
  {
   "cell_type": "markdown",
   "id": "1b7460f6",
   "metadata": {},
   "source": [
    "##### 4. Find ratio of the areas of the beams"
   ]
  },
  {
   "cell_type": "code",
   "execution_count": 9,
   "id": "c0ee50ce",
   "metadata": {},
   "outputs": [
    {
     "data": {
      "text/plain": [
       "' and so put simply we could fit 51 Suns into the beam of the dish.'"
      ]
     },
     "execution_count": 9,
     "metadata": {},
     "output_type": "execute_result"
    }
   ],
   "source": [
    "\n",
    "\n",
    "area_ratios = int(omega_a_deg/omega_s_deg)\n",
    "\n",
    "f' and so put simply we could fit {area_ratios} Suns into the beam of the dish.'\n"
   ]
  },
  {
   "cell_type": "markdown",
   "id": "f16da4c0",
   "metadata": {},
   "source": [
    "#### 2.2.5 Calculate the Brightness Temperature of the Sun"
   ]
  },
  {
   "cell_type": "markdown",
   "id": "fc08e3e6",
   "metadata": {},
   "source": [
    "To calculate the brightness temperature of the Sun we now have the Sun’s solid angle Ωs from Eqn. 5, the\n",
    "beam solid angle ΩA from Eqn. 6, and the antenna temperature measured from the Sun TA, from Eqn. 11.\n",
    "\n",
    "However, we need to correct the antenna temeperature to reflect the area ratio calculated above\n"
   ]
  },
  {
   "cell_type": "code",
   "execution_count": 10,
   "id": "896c758c",
   "metadata": {},
   "outputs": [
    {
     "data": {
      "text/plain": [
       "'Hence the temperature of the sun is about 10353 K'"
      ]
     },
     "execution_count": 10,
     "metadata": {},
     "output_type": "execute_result"
    }
   ],
   "source": [
    "TAsun_corrected=area_ratios*TAsun\n",
    "f'Hence the temperature of the sun is about {TAsun_corrected} K'"
   ]
  },
  {
   "cell_type": "markdown",
   "id": "88fbaefd",
   "metadata": {},
   "source": [
    "This does not allow for the efficiency of the dish. Experiments indicate that a\n",
    "reasonable value for ǫm for a DSTV dish at 12 GHz is about 0.75. For mesh surface satellite dishes working\n",
    "at 3.8 GHz, a lower value is more likely as the surface shape is less accurate, and ǫm is about 0.5. For a\n",
    "mesh dish with a 1.4GHz can feed, ǫm is about 0.5. These values are based on measurements with domestic\n",
    "satellite dishes. Correcting for this, the Sun's brightness temperature is about "
   ]
  },
  {
   "cell_type": "code",
   "execution_count": 11,
   "id": "3430a475",
   "metadata": {},
   "outputs": [
    {
     "data": {
      "text/plain": [
       "'So the brightness temperature of the sun can be estimated as 13804 Kelvins at 12 GHz'"
      ]
     },
     "execution_count": 11,
     "metadata": {},
     "output_type": "execute_result"
    }
   ],
   "source": [
    "Tb=int(TAsun_corrected/0.75)\n",
    "f'So the brightness temperature of the sun can be estimated as {Tb} Kelvins at 12 GHz'"
   ]
  },
  {
   "cell_type": "markdown",
   "id": "b99ca03d",
   "metadata": {},
   "source": [
    "Estimate the uncertainty in your result in the usual way, by propagating estimates of the error in each of\n",
    "your measurements. Assume an uncertainty in $\\epsilon_{m}$ of 10%."
   ]
  },
  {
   "cell_type": "markdown",
   "id": "fe609dbb",
   "metadata": {},
   "source": [
    "This temperature will vary during the 11 year solar cycle, but it reasonably matches the \n",
    "value given in standard references for this observing wavelength. However, the T$_{B}$ is about \n",
    "three times higher than the value of 5800 K measured at visible wavelengths.\n",
    "\n",
    "How does your result for the Sun’s brightness temperature compare to the temperature usually quoted for\n",
    "the Sun’s photosphere (light emitting surface)? What do you think this implies?\n",
    "\n",
    "\n",
    "In essence, we cannot treat the Sun as a perfect blackbody radiator – some other mechanism must be \n",
    "increasing the emission from the Sun at radio wavelengths. What could this be?"
   ]
  },
  {
   "cell_type": "markdown",
   "id": "ba320ed5",
   "metadata": {},
   "source": [
    "<!-- <img src=\"pinhole3.png\" alt=\"pinhole3.png\"  width=\"500\" height=\"200\" > -->"
   ]
  }
 ],
 "metadata": {
  "kernelspec": {
   "display_name": "Python 3 (ipykernel)",
   "language": "python",
   "name": "python3"
  },
  "language_info": {
   "codemirror_mode": {
    "name": "ipython",
    "version": 3
   },
   "file_extension": ".py",
   "mimetype": "text/x-python",
   "name": "python",
   "nbconvert_exporter": "python",
   "pygments_lexer": "ipython3",
   "version": "3.11.5"
  }
 },
 "nbformat": 4,
 "nbformat_minor": 5
}
